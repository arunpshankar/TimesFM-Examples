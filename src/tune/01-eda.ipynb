{
 "cells": [
  {
   "cell_type": "markdown",
   "id": "4e3abbd0",
   "metadata": {},
   "source": [
    "# Stock Data Exploration and Forecast Preparation\n",
    "\n",
    "This notebook demonstrates how to:\n",
    "1. **Download historical stock data** for a chosen ticker (Apple in this example).\n",
    "2. **Explore** and analyze the data (shape, head/tail samples, etc.).\n",
    "3. **Split** the time series into training and validation sets.\n",
    "4. **Prepare** the data for a forecasting task by creating input sequences (contexts) and corresponding forecast horizons.\n",
    "\n",
    "---"
   ]
  },
  {
   "cell_type": "code",
   "execution_count": 1,
   "id": "21fd904d",
   "metadata": {
    "collapsed": false,
    "jupyter": {
     "outputs_hidden": false
    },
    "tags": []
   },
   "outputs": [],
   "source": [
    "# ===========================\n",
    "#    Import Dependencies\n",
    "# ===========================\n",
    "\n",
    "import yfinance as yf\n",
    "import numpy as np\n",
    "import pandas as pd\n",
    "import matplotlib.pyplot as plt\n",
    "import seaborn as sns\n",
    "from torch.utils.data import Dataset\n",
    "from typing import Tuple\n",
    "\n",
    "# Optional: Set a seaborn style for nicer plots\n",
    "sns.set_theme(style=\"whitegrid\")\n"
   ]
  },
  {
   "cell_type": "markdown",
   "id": "c1a3fb6d",
   "metadata": {},
   "source": [
    "## 1. Download Historical Stock Data\n",
    "\n",
    "We’ll use **yfinance** to fetch historical data for Apple (`AAPL`) from 2010-01-01 to 2019-01-01."
   ]
  },
  {
   "cell_type": "code",
   "execution_count": 2,
   "id": "69db3720",
   "metadata": {
    "tags": []
   },
   "outputs": [
    {
     "name": "stdout",
     "output_type": "stream",
     "text": [
      "Downloading AAPL stock data...\n"
     ]
    },
    {
     "name": "stderr",
     "output_type": "stream",
     "text": [
      "[*********************100%***********************]  1 of 1 completed"
     ]
    },
    {
     "name": "stdout",
     "output_type": "stream",
     "text": [
      "\n",
      "Data downloaded. Here are the first 5 rows:\n"
     ]
    },
    {
     "name": "stderr",
     "output_type": "stream",
     "text": [
      "\n"
     ]
    },
    {
     "data": {
      "text/html": [
       "<div>\n",
       "<style scoped>\n",
       "    .dataframe tbody tr th:only-of-type {\n",
       "        vertical-align: middle;\n",
       "    }\n",
       "\n",
       "    .dataframe tbody tr th {\n",
       "        vertical-align: top;\n",
       "    }\n",
       "\n",
       "    .dataframe thead tr th {\n",
       "        text-align: left;\n",
       "    }\n",
       "\n",
       "    .dataframe thead tr:last-of-type th {\n",
       "        text-align: right;\n",
       "    }\n",
       "</style>\n",
       "<table border=\"1\" class=\"dataframe\">\n",
       "  <thead>\n",
       "    <tr>\n",
       "      <th>Price</th>\n",
       "      <th>Close</th>\n",
       "      <th>High</th>\n",
       "      <th>Low</th>\n",
       "      <th>Open</th>\n",
       "      <th>Volume</th>\n",
       "    </tr>\n",
       "    <tr>\n",
       "      <th>Ticker</th>\n",
       "      <th>AAPL</th>\n",
       "      <th>AAPL</th>\n",
       "      <th>AAPL</th>\n",
       "      <th>AAPL</th>\n",
       "      <th>AAPL</th>\n",
       "    </tr>\n",
       "    <tr>\n",
       "      <th>Date</th>\n",
       "      <th></th>\n",
       "      <th></th>\n",
       "      <th></th>\n",
       "      <th></th>\n",
       "      <th></th>\n",
       "    </tr>\n",
       "  </thead>\n",
       "  <tbody>\n",
       "    <tr>\n",
       "      <th>2010-01-04</th>\n",
       "      <td>6.447413</td>\n",
       "      <td>6.462175</td>\n",
       "      <td>6.398307</td>\n",
       "      <td>6.429939</td>\n",
       "      <td>493729600</td>\n",
       "    </tr>\n",
       "    <tr>\n",
       "      <th>2010-01-05</th>\n",
       "      <td>6.458560</td>\n",
       "      <td>6.495013</td>\n",
       "      <td>6.424516</td>\n",
       "      <td>6.465188</td>\n",
       "      <td>601904800</td>\n",
       "    </tr>\n",
       "    <tr>\n",
       "      <th>2010-01-06</th>\n",
       "      <td>6.355827</td>\n",
       "      <td>6.484167</td>\n",
       "      <td>6.349199</td>\n",
       "      <td>6.458559</td>\n",
       "      <td>552160000</td>\n",
       "    </tr>\n",
       "    <tr>\n",
       "      <th>2010-01-07</th>\n",
       "      <td>6.344078</td>\n",
       "      <td>6.386858</td>\n",
       "      <td>6.297984</td>\n",
       "      <td>6.379326</td>\n",
       "      <td>477131200</td>\n",
       "    </tr>\n",
       "    <tr>\n",
       "      <th>2010-01-08</th>\n",
       "      <td>6.386252</td>\n",
       "      <td>6.386855</td>\n",
       "      <td>6.298283</td>\n",
       "      <td>6.335640</td>\n",
       "      <td>447610800</td>\n",
       "    </tr>\n",
       "  </tbody>\n",
       "</table>\n",
       "</div>"
      ],
      "text/plain": [
       "Price          Close      High       Low      Open     Volume\n",
       "Ticker          AAPL      AAPL      AAPL      AAPL       AAPL\n",
       "Date                                                         \n",
       "2010-01-04  6.447413  6.462175  6.398307  6.429939  493729600\n",
       "2010-01-05  6.458560  6.495013  6.424516  6.465188  601904800\n",
       "2010-01-06  6.355827  6.484167  6.349199  6.458559  552160000\n",
       "2010-01-07  6.344078  6.386858  6.297984  6.379326  477131200\n",
       "2010-01-08  6.386252  6.386855  6.298283  6.335640  447610800"
      ]
     },
     "metadata": {},
     "output_type": "display_data"
    },
    {
     "name": "stdout",
     "output_type": "stream",
     "text": [
      "Here are the last 5 rows:\n"
     ]
    },
    {
     "data": {
      "text/html": [
       "<div>\n",
       "<style scoped>\n",
       "    .dataframe tbody tr th:only-of-type {\n",
       "        vertical-align: middle;\n",
       "    }\n",
       "\n",
       "    .dataframe tbody tr th {\n",
       "        vertical-align: top;\n",
       "    }\n",
       "\n",
       "    .dataframe thead tr th {\n",
       "        text-align: left;\n",
       "    }\n",
       "\n",
       "    .dataframe thead tr:last-of-type th {\n",
       "        text-align: right;\n",
       "    }\n",
       "</style>\n",
       "<table border=\"1\" class=\"dataframe\">\n",
       "  <thead>\n",
       "    <tr>\n",
       "      <th>Price</th>\n",
       "      <th>Close</th>\n",
       "      <th>High</th>\n",
       "      <th>Low</th>\n",
       "      <th>Open</th>\n",
       "      <th>Volume</th>\n",
       "    </tr>\n",
       "    <tr>\n",
       "      <th>Ticker</th>\n",
       "      <th>AAPL</th>\n",
       "      <th>AAPL</th>\n",
       "      <th>AAPL</th>\n",
       "      <th>AAPL</th>\n",
       "      <th>AAPL</th>\n",
       "    </tr>\n",
       "    <tr>\n",
       "      <th>Date</th>\n",
       "      <th></th>\n",
       "      <th></th>\n",
       "      <th></th>\n",
       "      <th></th>\n",
       "      <th></th>\n",
       "    </tr>\n",
       "  </thead>\n",
       "  <tbody>\n",
       "    <tr>\n",
       "      <th>2018-12-24</th>\n",
       "      <td>35.060497</td>\n",
       "      <td>36.187553</td>\n",
       "      <td>35.003188</td>\n",
       "      <td>35.375689</td>\n",
       "      <td>148676800</td>\n",
       "    </tr>\n",
       "    <tr>\n",
       "      <th>2018-12-26</th>\n",
       "      <td>37.529510</td>\n",
       "      <td>37.543837</td>\n",
       "      <td>35.034230</td>\n",
       "      <td>35.411507</td>\n",
       "      <td>234330000</td>\n",
       "    </tr>\n",
       "    <tr>\n",
       "      <th>2018-12-27</th>\n",
       "      <td>37.285950</td>\n",
       "      <td>37.433998</td>\n",
       "      <td>35.834153</td>\n",
       "      <td>37.211928</td>\n",
       "      <td>212468400</td>\n",
       "    </tr>\n",
       "    <tr>\n",
       "      <th>2018-12-28</th>\n",
       "      <td>37.305050</td>\n",
       "      <td>37.851865</td>\n",
       "      <td>36.903896</td>\n",
       "      <td>37.608305</td>\n",
       "      <td>169165600</td>\n",
       "    </tr>\n",
       "    <tr>\n",
       "      <th>2018-12-31</th>\n",
       "      <td>37.665627</td>\n",
       "      <td>38.052454</td>\n",
       "      <td>37.364758</td>\n",
       "      <td>37.854263</td>\n",
       "      <td>140014000</td>\n",
       "    </tr>\n",
       "  </tbody>\n",
       "</table>\n",
       "</div>"
      ],
      "text/plain": [
       "Price           Close       High        Low       Open     Volume\n",
       "Ticker           AAPL       AAPL       AAPL       AAPL       AAPL\n",
       "Date                                                             \n",
       "2018-12-24  35.060497  36.187553  35.003188  35.375689  148676800\n",
       "2018-12-26  37.529510  37.543837  35.034230  35.411507  234330000\n",
       "2018-12-27  37.285950  37.433998  35.834153  37.211928  212468400\n",
       "2018-12-28  37.305050  37.851865  36.903896  37.608305  169165600\n",
       "2018-12-31  37.665627  38.052454  37.364758  37.854263  140014000"
      ]
     },
     "metadata": {},
     "output_type": "display_data"
    }
   ],
   "source": [
    "# ===========================\n",
    "#   Download Stock Data\n",
    "# ===========================\n",
    "\n",
    "print(\"Downloading AAPL stock data...\")\n",
    "df = yf.download(\"AAPL\", start=\"2010-01-01\", end=\"2019-01-01\")\n",
    "\n",
    "print(\"\\nData downloaded. Here are the first 5 rows:\")\n",
    "display(df.head(5))\n",
    "\n",
    "print(\"Here are the last 5 rows:\")\n",
    "display(df.tail(5))"
   ]
  },
  {
   "cell_type": "markdown",
   "id": "57134d94",
   "metadata": {},
   "source": [
    "### Quick Data Information\n",
    "\n",
    "We can check the shape of the dataset, as well as quickly verify the date range and column details."
   ]
  },
  {
   "cell_type": "code",
   "execution_count": 3,
   "id": "ecfa5859",
   "metadata": {
    "tags": []
   },
   "outputs": [
    {
     "name": "stdout",
     "output_type": "stream",
     "text": [
      "DataFrame shape: (2264, 5)\n",
      "DataFrame columns: [('Close', 'AAPL'), ('High', 'AAPL'), ('Low', 'AAPL'), ('Open', 'AAPL'), ('Volume', 'AAPL')]\n",
      "\n",
      "Statistical summary:\n"
     ]
    },
    {
     "data": {
      "text/html": [
       "<div>\n",
       "<style scoped>\n",
       "    .dataframe tbody tr th:only-of-type {\n",
       "        vertical-align: middle;\n",
       "    }\n",
       "\n",
       "    .dataframe tbody tr th {\n",
       "        vertical-align: top;\n",
       "    }\n",
       "\n",
       "    .dataframe thead tr th {\n",
       "        text-align: left;\n",
       "    }\n",
       "</style>\n",
       "<table border=\"1\" class=\"dataframe\">\n",
       "  <thead>\n",
       "    <tr>\n",
       "      <th>Price</th>\n",
       "      <th>Close</th>\n",
       "      <th>High</th>\n",
       "      <th>Low</th>\n",
       "      <th>Open</th>\n",
       "      <th>Volume</th>\n",
       "    </tr>\n",
       "    <tr>\n",
       "      <th>Ticker</th>\n",
       "      <th>AAPL</th>\n",
       "      <th>AAPL</th>\n",
       "      <th>AAPL</th>\n",
       "      <th>AAPL</th>\n",
       "      <th>AAPL</th>\n",
       "    </tr>\n",
       "  </thead>\n",
       "  <tbody>\n",
       "    <tr>\n",
       "      <th>count</th>\n",
       "      <td>2264.000000</td>\n",
       "      <td>2264.000000</td>\n",
       "      <td>2264.000000</td>\n",
       "      <td>2264.000000</td>\n",
       "      <td>2.264000e+03</td>\n",
       "    </tr>\n",
       "    <tr>\n",
       "      <th>mean</th>\n",
       "      <td>22.443932</td>\n",
       "      <td>22.643002</td>\n",
       "      <td>22.237106</td>\n",
       "      <td>22.446848</td>\n",
       "      <td>3.204600e+08</td>\n",
       "    </tr>\n",
       "    <tr>\n",
       "      <th>std</th>\n",
       "      <td>11.472167</td>\n",
       "      <td>11.567662</td>\n",
       "      <td>11.375540</td>\n",
       "      <td>11.470984</td>\n",
       "      <td>2.386709e+08</td>\n",
       "    </tr>\n",
       "    <tr>\n",
       "      <th>min</th>\n",
       "      <td>5.785831</td>\n",
       "      <td>5.904829</td>\n",
       "      <td>5.731602</td>\n",
       "      <td>5.795469</td>\n",
       "      <td>4.590360e+07</td>\n",
       "    </tr>\n",
       "    <tr>\n",
       "      <th>25%</th>\n",
       "      <td>13.198030</td>\n",
       "      <td>13.366567</td>\n",
       "      <td>13.075617</td>\n",
       "      <td>13.260331</td>\n",
       "      <td>1.376740e+08</td>\n",
       "    </tr>\n",
       "    <tr>\n",
       "      <th>50%</th>\n",
       "      <td>20.899574</td>\n",
       "      <td>21.028139</td>\n",
       "      <td>20.671409</td>\n",
       "      <td>20.895149</td>\n",
       "      <td>2.536010e+08</td>\n",
       "    </tr>\n",
       "    <tr>\n",
       "      <th>75%</th>\n",
       "      <td>28.222087</td>\n",
       "      <td>28.427333</td>\n",
       "      <td>28.007014</td>\n",
       "      <td>28.204828</td>\n",
       "      <td>4.306974e+08</td>\n",
       "    </tr>\n",
       "    <tr>\n",
       "      <th>max</th>\n",
       "      <td>55.221668</td>\n",
       "      <td>55.554800</td>\n",
       "      <td>54.676755</td>\n",
       "      <td>54.914722</td>\n",
       "      <td>1.880998e+09</td>\n",
       "    </tr>\n",
       "  </tbody>\n",
       "</table>\n",
       "</div>"
      ],
      "text/plain": [
       "Price         Close         High          Low         Open        Volume\n",
       "Ticker         AAPL         AAPL         AAPL         AAPL          AAPL\n",
       "count   2264.000000  2264.000000  2264.000000  2264.000000  2.264000e+03\n",
       "mean      22.443932    22.643002    22.237106    22.446848  3.204600e+08\n",
       "std       11.472167    11.567662    11.375540    11.470984  2.386709e+08\n",
       "min        5.785831     5.904829     5.731602     5.795469  4.590360e+07\n",
       "25%       13.198030    13.366567    13.075617    13.260331  1.376740e+08\n",
       "50%       20.899574    21.028139    20.671409    20.895149  2.536010e+08\n",
       "75%       28.222087    28.427333    28.007014    28.204828  4.306974e+08\n",
       "max       55.221668    55.554800    54.676755    54.914722  1.880998e+09"
      ]
     },
     "metadata": {},
     "output_type": "display_data"
    },
    {
     "name": "stdout",
     "output_type": "stream",
     "text": [
      "\n",
      "Missing Values in each column:\n",
      "Price   Ticker\n",
      "Close   AAPL      0\n",
      "High    AAPL      0\n",
      "Low     AAPL      0\n",
      "Open    AAPL      0\n",
      "Volume  AAPL      0\n",
      "dtype: int64\n"
     ]
    }
   ],
   "source": [
    "# ===========================\n",
    "#   Explore Basic Info\n",
    "# ===========================\n",
    "print(f\"DataFrame shape: {df.shape}\")\n",
    "print(\"DataFrame columns:\", df.columns.tolist())\n",
    "\n",
    "print(\"\\nStatistical summary:\")\n",
    "display(df.describe())\n",
    "\n",
    "# Checking for missing values\n",
    "missing_values = df.isnull().sum()\n",
    "print(\"\\nMissing Values in each column:\")\n",
    "print(missing_values)"
   ]
  },
  {
   "cell_type": "markdown",
   "id": "aca9efa0",
   "metadata": {},
   "source": [
    "### 2. Visualize the Data\n",
    "\n",
    "A quick plot of the closing price over time can help visualize overall trends."
   ]
  },
  {
   "cell_type": "code",
   "execution_count": 4,
   "id": "139a0398",
   "metadata": {
    "tags": []
   },
   "outputs": [
    {
     "data": {
      "image/png": "[encoded data removed]",
      "text/plain": [
       "<Figure size 1200x600 with 1 Axes>"
      ]
     },
     "metadata": {},
     "output_type": "display_data"
    }
   ],
   "source": [
    "# ===========================\n",
    "#   Plot Close Prices\n",
    "# ===========================\n",
    "\n",
    "plt.figure(figsize=(12, 6))\n",
    "plt.plot(df.index, df['Close'], label='AAPL Close', color='blue')\n",
    "plt.title(\"Apple Stock Closing Price (2010 - 2019)\")\n",
    "plt.xlabel(\"Date\")\n",
    "plt.ylabel(\"Close Price (USD)\")\n",
    "plt.legend()\n",
    "plt.show()"
   ]
  },
  {
   "cell_type": "markdown",
   "id": "ba1a1546",
   "metadata": {},
   "source": [
    "## 3. Prepare Data for Forecasting\n",
    "\n",
    "We will focus on the **Close** price. Let's convert the Close column into a NumPy array, then split the data into **training** and **validation** sets. After that, we'll create input sequences (contexts) and output sequences (horizons) for a supervised learning approach to time series forecasting.\n",
    "\n",
    "### 3.1 Extract the Close Price and Split\n",
    "\n",
    "- We define a `train_split` ratio (e.g., 80% of the data for training).\n",
    "- We then slice the array into `train_series` and `val_series`."
   ]
  },
  {
   "cell_type": "code",
   "execution_count": 5,
   "id": "35832acb",
   "metadata": {
    "tags": []
   },
   "outputs": [
    {
     "name": "stdout",
     "output_type": "stream",
     "text": [
      "Train series shape: (1811, 1)\n",
      "Validation series shape: (453, 1)\n"
     ]
    }
   ],
   "source": [
    "# ===========================\n",
    "#   Data Splitting\n",
    "# ===========================\n",
    "\n",
    "time_series = df[\"Close\"].values.reshape(-1, 1)  # shape: (N, 1)\n",
    "\n",
    "train_split = 0.8\n",
    "split_idx = int(len(time_series) * train_split)\n",
    "\n",
    "train_series = time_series[:split_idx]\n",
    "val_series   = time_series[split_idx:]\n",
    "\n",
    "print(f\"Train series shape: {train_series.shape}\")\n",
    "print(f\"Validation series shape: {val_series.shape}\")"
   ]
  },
  {
   "cell_type": "markdown",
   "id": "d308b5a9",
   "metadata": {},
   "source": [
    "### 3.2 Define Context and Horizon Lengths\n",
    "\n",
    "For example, we can choose:\n",
    "- **`context_length`** = 50 (the number of past time steps used as input)\n",
    "- **`horizon_length`** = 10 (the number of future time steps to predict)\n",
    "\n",
    "You can modify these based on your forecasting requirements."
   ]
  },
  {
   "cell_type": "code",
   "execution_count": 6,
   "id": "bb2b56bb",
   "metadata": {
    "tags": []
   },
   "outputs": [],
   "source": [
    "# ===========================\n",
    "#   Specify Context & Horizon\n",
    "# ===========================\n",
    "\n",
    "context_length = 50\n",
    "horizon_length = 10"
   ]
  },
  {
   "cell_type": "markdown",
   "id": "8e2709b9",
   "metadata": {},
   "source": [
    "### 3.3 Create (Context, Horizon) Samples\n",
    "\n",
    "We slide over the training and validation series to create input-output pairs:\n",
    "- `x` = the previous 50 time steps of data (context)\n",
    "- `y` = the next 10 time steps (forecast horizon)\n",
    "\n",
    "The number of samples in each set is determined by:\n",
    "`num_samples` = `length of series` - `context_length` - `horizon_length` + 1"
   ]
  },
  {
   "cell_type": "code",
   "execution_count": 7,
   "id": "b7e01cba",
   "metadata": {
    "tags": []
   },
   "outputs": [
    {
     "name": "stdout",
     "output_type": "stream",
     "text": [
      "Created datasets:\n",
      "- Training samples: 1752\n",
      "- Validation samples: 394\n",
      "\n",
      "Sample pairs from training data:\n",
      "Sample 0:\n",
      "  Context (X) shape=(50, 1), first 3 elements=[6.44741297 6.45855951 6.35582685]\n",
      "  Horizon (Y) shape=(10, 1), first 3 elements=[6.7519927  6.76796007 6.69565582]\n",
      "Sample 1:\n",
      "  Context (X) shape=(50, 1), first 3 elements=[6.45855951 6.35582685 6.34407759]\n",
      "  Horizon (Y) shape=(10, 1), first 3 elements=[6.76796007 6.69565582 6.77097321]\n",
      "Sample 2:\n",
      "  Context (X) shape=(50, 1), first 3 elements=[6.35582685 6.34407759 6.3862524 ]\n",
      "  Horizon (Y) shape=(10, 1), first 3 elements=[6.69565582 6.77097321 6.87972927]\n"
     ]
    }
   ],
   "source": [
    "# ===========================\n",
    "#   Build Training Samples\n",
    "# ===========================\n",
    "\n",
    "train_samples = len(train_series) - context_length - horizon_length + 1\n",
    "val_samples = len(val_series) - context_length - horizon_length + 1\n",
    "\n",
    "train_data = []\n",
    "for i in range(train_samples):\n",
    "    x = train_series[i : i + context_length]\n",
    "    y = train_series[i + context_length : i + context_length + horizon_length]\n",
    "    train_data.append((x, y))\n",
    "\n",
    "val_data = []\n",
    "for i in range(val_samples):\n",
    "    x = val_series[i : i + context_length]\n",
    "    y = val_series[i + context_length : i + context_length + horizon_length]\n",
    "    val_data.append((x, y))\n",
    "\n",
    "print(\"Created datasets:\")\n",
    "print(f\"- Training samples: {len(train_data)}\")\n",
    "print(f\"- Validation samples: {len(val_data)}\")\n",
    "\n",
    "# Show a few example pairs\n",
    "print(\"\\nSample pairs from training data:\")\n",
    "for idx in range(3):\n",
    "    x_sample, y_sample = train_data[idx]\n",
    "    print(\n",
    "        f\"Sample {idx}:\\n  Context (X) shape={x_sample.shape}, first 3 elements={x_sample[:3].ravel()}\\n  \"\n",
    "        f\"Horizon (Y) shape={y_sample.shape}, first 3 elements={y_sample[:3].ravel()}\"\n",
    "    )"
   ]
  },
  {
   "cell_type": "markdown",
   "id": "28ca3d12",
   "metadata": {},
   "source": [
    "## 4. Creating a PyTorch Dataset (Optional)\n",
    "\n",
    "Below is an example of a custom PyTorch `Dataset` class to handle this data. If you use another framework or a pure NumPy workflow, adapt accordingly."
   ]
  },
  {
   "cell_type": "code",
   "execution_count": 8,
   "id": "0e27ebd7",
   "metadata": {
    "tags": []
   },
   "outputs": [
    {
     "name": "stdout",
     "output_type": "stream",
     "text": [
      "TrainDataset length: 1752\n",
      "ValDataset length: 394\n",
      "Sample shapes from train_dataset[0]: (50, 1) (10, 1)\n"
     ]
    }
   ],
   "source": [
    "# ======================================\n",
    "#   PyTorch Dataset for Time Series\n",
    "# ======================================\n",
    "\n",
    "class TimeSeriesDataset(Dataset):\n",
    "    def __init__(self, data):\n",
    "        \"\"\"\n",
    "        data: List of (context, horizon) tuples.\n",
    "        Each context and horizon is expected to be a NumPy array.\n",
    "        \"\"\"\n",
    "        self.data = data\n",
    "\n",
    "    def __len__(self):\n",
    "        return len(self.data)\n",
    "\n",
    "    def __getitem__(self, idx):\n",
    "        x, y = self.data[idx]\n",
    "        # Convert x and y to float32 if using PyTorch\n",
    "        return (x.astype(np.float32), y.astype(np.float32))\n",
    "\n",
    "# Example usage:\n",
    "train_dataset = TimeSeriesDataset(train_data)\n",
    "val_dataset = TimeSeriesDataset(val_data)\n",
    "\n",
    "print(f\"TrainDataset length: {len(train_dataset)}\")\n",
    "print(f\"ValDataset length: {len(val_dataset)}\")\n",
    "\n",
    "# Checking one sample\n",
    "sample_x, sample_y = train_dataset[0]\n",
    "print(\"Sample shapes from train_dataset[0]:\", sample_x.shape, sample_y.shape)"
   ]
  },
  {
   "cell_type": "markdown",
   "id": "ae2a096f",
   "metadata": {},
   "source": [
    "## 5. Conclusion\n",
    "\n",
    "- We have downloaded **AAPL** stock data.\n",
    "- Performed basic data exploration (head, tail, shape, plotting).\n",
    "- Split it into training and validation sets.\n",
    "- Created supervised learning samples for forecasting.\n",
    "- (Optionally) packaged the data into a PyTorch `Dataset`.\n",
    "\n",
    "You can now proceed to build and train a forecasting model using these prepared datasets.\n",
    "\n",
    "---\n",
    "\n",
    "### Next Steps\n",
    "1. **Feature Engineering**: You might add additional features such as technical indicators, date/time features (e.g. day of week, day of month), or external data.\n",
    "2. **Modeling**: Use RNNs (LSTM, GRU), Transformers, or classical ML models (ARIMA, XGBoost) for forecasting.\n",
    "3. **Validation**: Evaluate models on the validation set and tune hyperparameters.\n",
    "4. **Deployment**: If you are satisfied with the model, proceed to deploy it or integrate it into a production environment.\n",
    "\n",
    "**Happy Forecasting!**"
   ]
  }
 ],
 "metadata": {
  "environment": {
   "kernel": "conda-base-py",
   "name": "workbench-notebooks.m125",
   "type": "gcloud",
   "uri": "us-docker.pkg.dev/deeplearning-platform-release/gcr.io/workbench-notebooks:m125"
  },
  "kernelspec": {
   "display_name": "Python 3 (ipykernel) (Local)",
   "language": "python",
   "name": "conda-base-py"
  },
  "language_info": {
   "codemirror_mode": {
    "name": "ipython",
    "version": 3
   },
   "file_extension": ".py",
   "mimetype": "text/x-python",
   "name": "python",
   "nbconvert_exporter": "python",
   "pygments_lexer": "ipython3",
   "version": "3.10.15"
  },
  "name": "stock_forecasting_notebook"
 },
 "nbformat": 4,
 "nbformat_minor": 5
}
